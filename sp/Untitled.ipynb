{
 "cells": [
  {
   "cell_type": "markdown",
   "id": "7617024a",
   "metadata": {},
   "source": [
    "# 1"
   ]
  },
  {
   "cell_type": "code",
   "execution_count": 1,
   "id": "7921c4fb",
   "metadata": {},
   "outputs": [],
   "source": [
    "import numpy as np\n",
    "import matplotlib.pyplot as plt"
   ]
  },
  {
   "cell_type": "code",
   "execution_count": 23,
   "id": "29a6205b",
   "metadata": {},
   "outputs": [
    {
     "data": {
      "text/plain": [
       "[<matplotlib.lines.Line2D at 0x7f2c497c4a30>]"
      ]
     },
     "execution_count": 23,
     "metadata": {},
     "output_type": "execute_result"
    },
    {
     "data": {
      "image/png": "[encoded data removed]",
      "text/plain": [
       "<Figure size 432x288 with 1 Axes>"
      ]
     },
     "metadata": {
      "needs_background": "light"
     },
     "output_type": "display_data"
    }
   ],
   "source": [
    "f = lambda x, F0 : np.exp(2*np.pi*1j*F0*x)\n",
    "\n",
    "#Slambda = lambda l, f0, F0 : (-2j*np.sin(32*np.pi(f0, l/F0))/(1 - np.exp(1j*2*np.pi*(f0-l/F0)))\n",
    "Slambda  = lambda l, f0, F0 : np.exp(-1j*np.pi*(f0 - l/F0)) * (np.sin(32*np.pi*(f0 - l/F0)))/np.sin(np.pi*(f0 - l/F0 ))\n",
    "\n",
    "lk = np.arange(0, 1, 1/32, dtype=float)\n",
    "\n",
    "Snk = np.fft.fft(f((lk-16)/32, 7))\n",
    "\n",
    "A = np.array([(-1)**k for k in range(32)]) \n",
    "Snk = Snk * A\n",
    "\n",
    "l = np.linspace(0,1, 25)\n",
    "plt.plot(abs(Slambda(l, 7/32, 7)))\n",
    "plt.plot(np.abs(Snk))"
   ]
  },
  {
   "cell_type": "markdown",
   "id": "8ed9be86",
   "metadata": {},
   "source": [
    "# 2"
   ]
  },
  {
   "cell_type": "code",
   "execution_count": null,
   "id": "7d97587f",
   "metadata": {},
   "outputs": [],
   "source": []
  }
 ],
 "metadata": {
  "kernelspec": {
   "display_name": "Python 3 (ipykernel)",
   "language": "python",
   "name": "python3"
  },
  "language_info": {
   "codemirror_mode": {
    "name": "ipython",
    "version": 3
   },
   "file_extension": ".py",
   "mimetype": "text/x-python",
   "name": "python",
   "nbconvert_exporter": "python",
   "pygments_lexer": "ipython3",
   "version": "3.9.7"
  }
 },
 "nbformat": 4,
 "nbformat_minor": 5
}
