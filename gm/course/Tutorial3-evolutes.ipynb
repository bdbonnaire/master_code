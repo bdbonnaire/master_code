{
 "cells": [
  {
   "cell_type": "markdown",
   "metadata": {},
   "source": [
    "# TUTORIAL 3 : Evolute of curves\n",
    "\n",
    "The evolute of a curve is by definition the set of its centers of curvatures. The goal of this lab session is to define a generic function that computes the evolute of any parameterized curve. \n",
    "\n",
    "## PART I. \n",
    "We assume in the following that we have a parametrized curve $f:[a,b]\\to\\mathbb{R}^3$ which is only known through a discretization $(t,f)$ where $$\\textit{t = np.linspace(0,1,n)}\\quad f=(f(t_0),\\cdots,f(t_{n-1})).$$\n",
    "$f$ is therefore of size $3 \\times n$.\n",
    "\n",
    "## 1) Discrete derivative\n",
    "Define a function that calculate an approximation of the derivative of $f$. The output has the same size than $t$ and $f$. "
   ]
  },
  {
   "cell_type": "code",
   "execution_count": 17,
   "metadata": {},
   "outputs": [
    {
     "data": {
      "text/plain": [
       "array([[2., 2., 2., 2., 2.],\n",
       "       [2., 2., 2., 2., 2.],\n",
       "       [2., 2., 2., 2., 2.]])"
      ]
     },
     "execution_count": 17,
     "metadata": {},
     "output_type": "execute_result"
    }
   ],
   "source": [
    "%matplotlib inline\n",
    "import numpy as np\n",
    "import matplotlib.pyplot as plt\n",
    "\n",
    "#----------------------\n",
    "# discrete derivature\n",
    "def derivative(t,f):\n",
    "    deriv_f = np.zeros(f.shape)\n",
    "    for i in range(len(t)-1):\n",
    "        deriv_f[:,i] = (f[:,i]-f[:,i+1])/(t[i]-t[i+1])\n",
    "    deriv_f[:,len(t)-1] = (f[:,len(t)-2]-f[:,len(t)-1])/(t[len(t)-2]-t[len(t)-1])\n",
    "    return deriv_f\n",
    "\n",
    "#---------------------\n",
    "# check that function on simple examples\n",
    "\n",
    "t = np.linspace(0,1,5)\n",
    "f = lambda x : 2*x\n",
    "F = np.array([f(t), f(t), f(t)])\n",
    "\n",
    "derivative(t, F)\n"
   ]
  },
  {
   "cell_type": "markdown",
   "metadata": {},
   "source": [
    "## 2) Discrete normal vector\n",
    "The goal is to build the function that outputs for every $t_i$ the unit normal $N(t_i)$."
   ]
  },
  {
   "cell_type": "code",
   "execution_count": 26,
   "metadata": {},
   "outputs": [
    {
     "name": "stdout",
     "output_type": "stream",
     "text": [
      "[[-0.08804343 -0.25865616 -0.41318691 -0.5420277  -0.5420277 ]\n",
      " [ 0.7006751   0.65711052  0.57268998  0.45266236  0.45266236]\n",
      " [ 0.70802737  0.70802737  0.70802737  0.70802737  0.70802737]]\n",
      "[[-0.68245095 -0.618123   -0.51536315 -0.         -0.        ]\n",
      " [-0.17425834 -0.33768213 -0.48011049 -0.         -0.        ]\n",
      " [-0.         -0.         -0.         -0.         -0.        ]]\n"
     ]
    },
    {
     "data": {
      "text/plain": [
       "array([[-0.96891242, -0.87758256, -0.73168887, -0.        , -0.        ],\n",
       "       [-0.24740396, -0.47942554, -0.68163876, -0.        , -0.        ],\n",
       "       [-0.        , -0.        , -0.        , -0.        , -0.        ]])"
      ]
     },
     "execution_count": 26,
     "metadata": {},
     "output_type": "execute_result"
    }
   ],
   "source": [
    "#----------------------\n",
    "# discrete derivature\n",
    "def normal_vector(t,f):\n",
    "    n = len(t)\n",
    "    tangent_f = np.zeros((3,n))\n",
    "    df = derivative(t,f)\n",
    "    for i in range(n) :\n",
    "        tangent_f[:,i] = df[:,i] / np.linalg.norm(df[:,i],2)\n",
    "    print(tangent_f)\n",
    "    normal_f = derivative(t, tangent_f)\n",
    "    print(normal_f)\n",
    "    for i in range(n) :\n",
    "        if np.linalg.norm(normal_f[:,i], 2) :\n",
    "            normal_f[:,i] = normal_f[:,i] / np.linalg.norm(normal_f[:,i], 2)\n",
    "    return normal_f # normal_f is of size 3 x n\n",
    "\n",
    "#---------------------\n",
    "# check that function on simple examples\n",
    "F = np.array([np.cos(t), np.sin(t), t])\n",
    "normal_vector(t, F)"
   ]
  },
  {
   "cell_type": "markdown",
   "metadata": {},
   "source": [
    "## 3) Curvature function\n",
    "The goal is to build the function that outputs for every $t_i$ the curvature $k(t_i)$."
   ]
  },
  {
   "cell_type": "code",
   "execution_count": 13,
   "metadata": {},
   "outputs": [],
   "source": [
    "#----------------------\n",
    "# discrete derivature\n",
    "def curvature(t,f):\n",
    "    # TO BE DONE\n",
    "    return curvature_f # curvature_f is of size 1 x n\n",
    "\n",
    "#---------------------\n",
    "# check that function on simple examples\n",
    "\n"
   ]
  },
  {
   "cell_type": "markdown",
   "metadata": {},
   "source": [
    "## 4) Evolute \n",
    "Define the evolute, namely the set of centers of curvatures. "
   ]
  },
  {
   "cell_type": "code",
   "execution_count": 14,
   "metadata": {},
   "outputs": [],
   "source": [
    "#----------------------\n",
    "# discrete derivature\n",
    "def evolute(t,f):\n",
    "    # TO BE DONE\n",
    "    return evolute_f # evolute_f is of size 3 x n\n",
    "\n"
   ]
  },
  {
   "cell_type": "markdown",
   "metadata": {},
   "source": [
    "## PART II. 1) Evolute of the helicoid\n",
    "Plot the evolute of the helicoid \n",
    "$$\n",
    "\\begin{array}{lllll}\n",
    "\\gamma :&\\mathbb{R}&\\to&\\mathbb{R}^3\\\\ \n",
    "&t &\\mapsto & (R\\cos t, R \\sin t, at).\n",
    "\\end{array}\n",
    "$$"
   ]
  },
  {
   "cell_type": "code",
   "execution_count": null,
   "metadata": {},
   "outputs": [],
   "source": []
  },
  {
   "cell_type": "markdown",
   "metadata": {},
   "source": [
    "## 2) Evolute of the catenary\n",
    "Plot the evolute of the catenary \n",
    "$$\n",
    "\\begin{array}{lllll}\n",
    "\\gamma :&\\mathbb{R}&\\to&\\mathbb{R}^2\\\\ \n",
    "&t &\\mapsto & (t,\\cosh t).\n",
    "\\end{array}\n",
    "$$"
   ]
  },
  {
   "cell_type": "code",
   "execution_count": null,
   "metadata": {},
   "outputs": [],
   "source": []
  },
  {
   "cell_type": "markdown",
   "metadata": {},
   "source": [
    "## 3) Evolute of Bezier curves\n",
    "Plot the evolute of  Bezier curve that you created before."
   ]
  },
  {
   "cell_type": "code",
   "execution_count": null,
   "metadata": {},
   "outputs": [],
   "source": []
  },
  {
   "cell_type": "markdown",
   "metadata": {},
   "source": []
  }
 ],
 "metadata": {
  "kernelspec": {
   "display_name": "Python 3 (ipykernel)",
   "language": "python",
   "name": "python3"
  },
  "language_info": {
   "codemirror_mode": {
    "name": "ipython",
    "version": 3
   },
   "file_extension": ".py",
   "mimetype": "text/x-python",
   "name": "python",
   "nbconvert_exporter": "python",
   "pygments_lexer": "ipython3",
   "version": "3.9.7"
  }
 },
 "nbformat": 4,
 "nbformat_minor": 2
}
