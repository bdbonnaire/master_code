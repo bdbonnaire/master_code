{
 "cells": [
  {
   "cell_type": "markdown",
   "id": "0a5d9539",
   "metadata": {},
   "source": [
    "# Tutorial 5 : Splines and DeBoor Cox algorithm\n",
    "\n",
    "In this lab session, we are going to plot a 2D B-spline curve using the deBoor-Cox algorithm.\n",
    "\n",
    "## Spline curve\n",
    "We recall that the B-spline $S(t)$ of degree $k$ associated to the nodes $t_0 = \\cdots = t_{k} < t_{k+1} < \\cdots < t_N < t_{N+1} = \\cdots = t_{N+k+1}$  and to the control polygon $[D] = [D_0...D_N]$, then the B-spline writes \n",
    "$$\n",
    "S(t) = \\sum_{i=0}^{N} D_i \\, N_i^k(t), \\quad t \\in [t_{k},t_{N+1}] \\quad \\hbox{(parameter space)}.\n",
    "$$\n",
    "\n",
    "## DeBoor-Cox algorithm\n",
    "The DeBoor-Cox algorithm is a triangular scheme that allows to calculate  $S(t)$  for $t \\in [t_k, t_{N+1}]$. The algorithm works as follows.\n",
    "\n",
    "1. Determine $r$ such that $t_r \\leq  t < t_{r+1}$\n",
    "2. Initialisation: $D^0_{i}=D_i$ for $i\\in\\{r-k,\\cdots,r\\}$\n",
    "3. For $j = 1$ to $k$:\n",
    "\n",
    "   For $i=r-k+j$ to $r$:\n",
    "\n",
    "$$\\displaystyle{D^j_i := {(t-t_i) * D_{i}^{j-1} + (t_{i+k-j+1}-t) * D_{i-1}^{j-1} \\over t_{i+k-j+1}-t_i}}$$\n",
    "\n",
    "Return: $S(t) := D^{k}_r$\n",
    "\n",
    "# Question 1: implementation\n",
    "1. write a function that that associates to $k$ a set of nodes $(t_i)$.\n",
    "2. Write a function that evaluates to $k$, $[D]$ and a parameter $t$, the evaluation $S(t)$ (using the DeBoor-Cox algorithm).\n",
    "\n",
    "# Question 2: plot several splines curves for diffent values of $k$. What do you observe ?"
   ]
  },
  {
   "cell_type": "code",
   "execution_count": null,
   "id": "c54aa93e",
   "metadata": {},
   "outputs": [],
   "source": []
  }
 ],
 "metadata": {
  "kernelspec": {
   "display_name": "Python 3 (ipykernel)",
   "language": "python",
   "name": "python3"
  },
  "language_info": {
   "codemirror_mode": {
    "name": "ipython",
    "version": 3
   },
   "file_extension": ".py",
   "mimetype": "text/x-python",
   "name": "python",
   "nbconvert_exporter": "python",
   "pygments_lexer": "ipython3",
   "version": "3.9.7"
  }
 },
 "nbformat": 4,
 "nbformat_minor": 5
}
